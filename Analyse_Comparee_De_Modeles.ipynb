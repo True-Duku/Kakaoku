{
  "nbformat": 4,
  "nbformat_minor": 0,
  "metadata": {
    "colab": {
      "provenance": [],
      "authorship_tag": "ABX9TyMX1UmC8RWVf5IqApJ20YLV",
      "include_colab_link": true
    },
    "kernelspec": {
      "name": "python3",
      "display_name": "Python 3"
    },
    "language_info": {
      "name": "python"
    }
  },
  "cells": [
    {
      "cell_type": "markdown",
      "metadata": {
        "id": "view-in-github",
        "colab_type": "text"
      },
      "source": [
        "<a href=\"https://colab.research.google.com/github/True-Duku/Kakaoku/blob/main/Analyse_Comparee_De_Modeles.ipynb\" target=\"_parent\"><img src=\"https://colab.research.google.com/assets/colab-badge.svg\" alt=\"Open In Colab\"/></a>"
      ]
    },
    {
      "cell_type": "code",
      "execution_count": 1,
      "metadata": {
        "id": "jSrfcY0A9l32"
      },
      "outputs": [],
      "source": [
        "# Importer les modules\n",
        "\n",
        "import pandas as pd\n",
        "import numpy as np\n",
        "from sklearn import model_selection\n",
        "from sklearn import ensemble\n",
        "from sklearn import svm\n",
        "from sklearn import neighbors\n",
        "from sklearn import preprocessing\n",
        "from sklearn.model_selection import train_test_split\n",
        "from sklearn.ensemble import VotingClassifier"
      ]
    },
    {
      "cell_type": "code",
      "source": [
        "# afficher le fichier\n",
        "df = pd.read_csv('ENB2012_data.csv',index_col=1)\n",
        "\n",
        "# changement du format d’affichage par défaut des nombres à virgule flottante en utilisant deux chiffres après la virgule décimale\n",
        "# pour éviter des corrélation à chiffre entiers\n",
        "pd.options.display.float_format = '{:.2f}'.format\n",
        "\n",
        "print(df.info(),df.head())"
      ],
      "metadata": {
        "colab": {
          "base_uri": "https://localhost:8080/"
        },
        "id": "lg99s8wXeNXg",
        "outputId": "caff8b60-e44c-4b8c-9d8b-9e25e3ecfa7f"
      },
      "execution_count": 37,
      "outputs": [
        {
          "output_type": "stream",
          "name": "stdout",
          "text": [
            "<class 'pandas.core.frame.DataFrame'>\n",
            "Index: 768 entries, 514.5 to 808.5\n",
            "Data columns (total 9 columns):\n",
            " #   Column  Non-Null Count  Dtype  \n",
            "---  ------  --------------  -----  \n",
            " 0   X1      768 non-null    float64\n",
            " 1   X3      768 non-null    float64\n",
            " 2   X4      768 non-null    float64\n",
            " 3   X5      768 non-null    float64\n",
            " 4   X6      768 non-null    int64  \n",
            " 5   X7      768 non-null    float64\n",
            " 6   X8      768 non-null    int64  \n",
            " 7   Y1      768 non-null    float64\n",
            " 8   Y2      768 non-null    float64\n",
            "dtypes: float64(7), int64(2)\n",
            "memory usage: 60.0 KB\n",
            "None          X1     X3     X4   X5  X6   X7  X8    Y1    Y2\n",
            "X2                                                     \n",
            "514.50 0.98 294.00 110.25 7.00   2 0.00   0 15.55 21.33\n",
            "514.50 0.98 294.00 110.25 7.00   3 0.00   0 15.55 21.33\n",
            "514.50 0.98 294.00 110.25 7.00   4 0.00   0 15.55 21.33\n",
            "514.50 0.98 294.00 110.25 7.00   5 0.00   0 15.55 21.33\n",
            "563.50 0.90 318.50 122.50 7.00   2 0.00   0 20.84 28.28\n"
          ]
        }
      ]
    },
    {
      "cell_type": "code",
      "source": [
        "# convertir les colonnes int en float\n",
        "df['X6'] = df['X6'].astype(float)\n",
        "df['X8'] = df['X8'].astype(float)\n"
      ],
      "metadata": {
        "id": "xOryb4Wegyq8"
      },
      "execution_count": 38,
      "outputs": []
    },
    {
      "cell_type": "code",
      "source": [
        "# vérifier le résultat\n",
        "df.info()"
      ],
      "metadata": {
        "colab": {
          "base_uri": "https://localhost:8080/"
        },
        "id": "gX_8hSTRrXkx",
        "outputId": "860b4e6b-144c-47e8-9a6b-e91348b633da"
      },
      "execution_count": 39,
      "outputs": [
        {
          "output_type": "stream",
          "name": "stdout",
          "text": [
            "<class 'pandas.core.frame.DataFrame'>\n",
            "Index: 768 entries, 514.5 to 808.5\n",
            "Data columns (total 9 columns):\n",
            " #   Column  Non-Null Count  Dtype  \n",
            "---  ------  --------------  -----  \n",
            " 0   X1      768 non-null    float64\n",
            " 1   X3      768 non-null    float64\n",
            " 2   X4      768 non-null    float64\n",
            " 3   X5      768 non-null    float64\n",
            " 4   X6      768 non-null    float64\n",
            " 5   X7      768 non-null    float64\n",
            " 6   X8      768 non-null    float64\n",
            " 7   Y1      768 non-null    float64\n",
            " 8   Y2      768 non-null    float64\n",
            "dtypes: float64(9)\n",
            "memory usage: 60.0 KB\n"
          ]
        }
      ]
    },
    {
      "cell_type": "markdown",
      "source": [],
      "metadata": {
        "id": "fjY3kULxiwgN"
      }
    },
    {
      "cell_type": "code",
      "source": [
        "# Correlations et variables les plus corrélées\n",
        "\n",
        "u = df.corr()\n",
        "print('Correlation les plus fortes car les plus proches de 1',u)"
      ],
      "metadata": {
        "colab": {
          "base_uri": "https://localhost:8080/"
        },
        "id": "_z-z2CvQfE4p",
        "outputId": "99fe1ebb-f6d3-405c-9c82-2c53abc49536"
      },
      "execution_count": 40,
      "outputs": [
        {
          "output_type": "stream",
          "name": "stdout",
          "text": [
            "Correlation les plus fortes car les plus proches de 1       X1    X3    X4    X5    X6    X7    X8    Y1    Y2\n",
            "X1  1.00 -0.20 -0.87  0.83  0.00 -0.00 -0.00  0.62  0.63\n",
            "X3 -0.20  1.00 -0.29  0.28 -0.00 -0.00  0.00  0.46  0.43\n",
            "X4 -0.87 -0.29  1.00 -0.97 -0.00 -0.00 -0.00 -0.86 -0.86\n",
            "X5  0.83  0.28 -0.97  1.00  0.00  0.00 -0.00  0.89  0.90\n",
            "X6  0.00 -0.00 -0.00  0.00  1.00 -0.00 -0.00 -0.00  0.01\n",
            "X7 -0.00 -0.00 -0.00  0.00 -0.00  1.00  0.21  0.27  0.21\n",
            "X8 -0.00  0.00 -0.00 -0.00 -0.00  0.21  1.00  0.09  0.05\n",
            "Y1  0.62  0.46 -0.86  0.89 -0.00  0.27  0.09  1.00  0.98\n",
            "Y2  0.63  0.43 -0.86  0.90  0.01  0.21  0.05  0.98  1.00\n"
          ]
        }
      ]
    },
    {
      "cell_type": "code",
      "source": [
        "# Nouvelle colonne Total_charges avec Heating_load + cooling_load\n",
        "# Nouvelle variable charges_classe = deouper en 4 classes selon 3 quantiles\n",
        "# en  utilisant pd.qcut pour créer la variable charges_classes\n",
        "\n",
        "df['total_charges'] = df['Y1'] + df['Y2']\n",
        "\n",
        "charges_classes = pd.qcut(df['total_charges'],q=[0,0.25,0.50,0.75,1],labels=[0,1,2,3])"
      ],
      "metadata": {
        "id": "LkcvCpUpyElL"
      },
      "execution_count": 41,
      "outputs": []
    },
    {
      "cell_type": "code",
      "source": [
        "# Stocker dans une variable data les variables explicatives\n",
        "# separeer les variables en Apprentissage/Test avec Data comme variable\n",
        "# explicatives et Charges_classes comme variable cible\n",
        "# Centrer et reduire les variables explicatives des 2 echantillons\n",
        "\n",
        "data = df.iloc[:,0:8]\n",
        "\n",
        "x_train,x_test,y_train,y_test = train_test_split(data,charges_classes,test_size=0.2)\n",
        "\n",
        "from sklearn.preprocessing import StandardScaler\n",
        "scaler = StandardScaler()\n",
        "scaler.fit(x_train)\n",
        "x_train = scaler.transform(x_train)\n",
        "scaler.fit(x_test)\n",
        "x_test = scaler.transform(x_test)"
      ],
      "metadata": {
        "id": "_z2aa2Pe-nBl"
      },
      "execution_count": 43,
      "outputs": []
    },
    {
      "cell_type": "code",
      "source": [
        "# modélisation avec les Plus proches voisins KNN\n",
        "\n",
        "knn = neighbors.KNeighborsClassifier(n_neighbors = 5)\n",
        "knn.fit(x_train,y_train)\n",
        "knn.get_params()\n",
        "\n",
        "y_pred = knn.predict(x_test)\n",
        "pd.crosstab(y_test,y_pred,rownames=['classe reelle'],colnames=['classe predite'])\n",
        "knn.score(x_test,y_test)"
      ],
      "metadata": {
        "colab": {
          "base_uri": "https://localhost:8080/"
        },
        "id": "H0yGcLP9_K49",
        "outputId": "545ba198-5f80-4096-819a-0473a1e3b608"
      },
      "execution_count": 44,
      "outputs": [
        {
          "output_type": "execute_result",
          "data": {
            "text/plain": [
              "0.9155844155844156"
            ]
          },
          "metadata": {},
          "execution_count": 44
        }
      ]
    },
    {
      "cell_type": "code",
      "source": [
        "# Modélisation avec  Support Vector Machine\n",
        "\n",
        "clf = svm.SVC(kernel='linear',C=10)\n",
        "clf.fit(x_train,y_train)\n",
        "clf.get_params()\n",
        "\n",
        "y_pred2 = clf.predict(x_test)\n",
        "pd.crosstab(y_test,y_pred2,rownames=['classe reelle'],colnames=['classe predite'])\n",
        "clf.score(x_test,y_test)"
      ],
      "metadata": {
        "colab": {
          "base_uri": "https://localhost:8080/"
        },
        "id": "E1_3vAk8_md4",
        "outputId": "c91fdd2b-e1bb-4db7-8038-11b5fbd43835"
      },
      "execution_count": 45,
      "outputs": [
        {
          "output_type": "execute_result",
          "data": {
            "text/plain": [
              "0.9545454545454546"
            ]
          },
          "metadata": {},
          "execution_count": 45
        }
      ]
    },
    {
      "cell_type": "code",
      "source": [
        "# Modélisation avec Random Forest\n",
        "\n",
        "rnd = ensemble.RandomForestClassifier(max_features='sqrt',min_samples_split=2)\n",
        "rnd.fit(x_train,y_train)\n",
        "rnd.get_params()\n",
        "\n",
        "y_pred3 = rnd.predict(x_test)\n",
        "pd.crosstab(y_test,y_pred3,rownames=['classe reelle'],colnames=['classe predite'])\n",
        "rnd.score(x_test,y_test)"
      ],
      "metadata": {
        "colab": {
          "base_uri": "https://localhost:8080/"
        },
        "id": "HjP-4ryeAFcn",
        "outputId": "71c17b38-b3dc-4711-d9e6-8fffa9ff7f17"
      },
      "execution_count": 47,
      "outputs": [
        {
          "output_type": "execute_result",
          "data": {
            "text/plain": [
              "0.948051948051948"
            ]
          },
          "metadata": {},
          "execution_count": 47
        }
      ]
    },
    {
      "cell_type": "code",
      "source": [
        "# recherche des paramètres\n",
        "from sklearn.model_selection import GridSearchCV"
      ],
      "metadata": {
        "id": "fCOaBVobA4Wc"
      },
      "execution_count": 48,
      "outputs": []
    },
    {
      "cell_type": "code",
      "source": [
        "# avec KNN train\n",
        "\n",
        "from sklearn.model_selection import GridSearchCV\n",
        "parameter = {'n_neighbors':[2,50]}\n",
        "neig = neighbors.KNeighborsClassifier()\n",
        "knn = GridSearchCV(neig,parameter)\n",
        "knn.fit(x_train,y_train)\n",
        "knn.cv_results_\n",
        "\n",
        "y_pred = knn.predict(x_test)\n",
        "print(pd.crosstab(y_test,y_pred,rownames=['classe reelle'],colnames=['classe predite']),'score =',\n",
        "knn.score(x_test,y_test))"
      ],
      "metadata": {
        "colab": {
          "base_uri": "https://localhost:8080/"
        },
        "id": "Ak4OKz88BBo9",
        "outputId": "6912ba99-37fc-498e-e6ca-82a538418147"
      },
      "execution_count": 49,
      "outputs": [
        {
          "output_type": "stream",
          "name": "stdout",
          "text": [
            "classe predite   0   1   2   3\n",
            "classe reelle                 \n",
            "0               33   1   0   0\n",
            "1                7  34   0   0\n",
            "2                0   2  41   1\n",
            "3                0   1   4  30 score = 0.8961038961038961\n"
          ]
        }
      ]
    },
    {
      "cell_type": "code",
      "source": [
        "# Avec Support Vector Machine\n",
        "\n",
        "parameter2 = {'kernel':('linear','rbf'),'C':[0.1,1,10,50]}\n",
        "svc = svm.SVC()\n",
        "clf = GridSearchCV(svc,parameter2)\n",
        "clf.fit(x_train,y_train)\n",
        "clf.cv_results_\n",
        "\n",
        "y_pred2 = clf.predict(x_test)\n",
        "print(pd.crosstab(y_test,y_pred2,rownames=['classe reelle'],colnames=['classe predite']),'score =',\n",
        "clf.score(x_test,y_test))"
      ],
      "metadata": {
        "colab": {
          "base_uri": "https://localhost:8080/"
        },
        "id": "wXzhngKKBVB7",
        "outputId": "51abb0a2-4470-4946-893c-dd95bab2a049"
      },
      "execution_count": 50,
      "outputs": [
        {
          "output_type": "stream",
          "name": "stdout",
          "text": [
            "classe predite   0   1   2   3\n",
            "classe reelle                 \n",
            "0               34   0   0   0\n",
            "1                2  39   0   0\n",
            "2                0   1  40   3\n",
            "3                0   0   1  34 score = 0.9545454545454546\n"
          ]
        }
      ]
    },
    {
      "cell_type": "code",
      "source": [
        "# Avec Random Forest\n",
        "\n",
        "parameter3 = {'max_features':('sqrt','log','none'),'min_samples_split':range(2,32,2)}\n",
        "forest = ensemble.RandomForestClassifier()\n",
        "rnd = GridSearchCV(forest,parameter3)\n",
        "rnd.fit(x_train,y_train)\n",
        "rnd.cv_results_\n",
        "\n",
        "y_pred3 = rnd.predict(x_test)\n",
        "print(pd.crosstab(y_test,y_pred3,rownames=['classe reelle'],colnames=['classe predite']),' score = ',\n",
        "rnd.score(x_test,y_test))"
      ],
      "metadata": {
        "colab": {
          "base_uri": "https://localhost:8080/"
        },
        "id": "xdSrDyoeB_h7",
        "outputId": "0add85e8-2b1e-4b46-e1c6-efc20312506b"
      },
      "execution_count": 51,
      "outputs": [
        {
          "output_type": "stream",
          "name": "stdout",
          "text": [
            "classe predite   0   1   2   3\n",
            "classe reelle                 \n",
            "0               34   0   0   0\n",
            "1                1  40   0   0\n",
            "2                0   1  40   3\n",
            "3                0   0   1  34  score =  0.961038961038961\n"
          ]
        },
        {
          "output_type": "stream",
          "name": "stderr",
          "text": [
            "/usr/local/lib/python3.10/dist-packages/sklearn/model_selection/_validation.py:425: FitFailedWarning: \n",
            "150 fits failed out of a total of 225.\n",
            "The score on these train-test partitions for these parameters will be set to nan.\n",
            "If these failures are not expected, you can try to debug them by setting error_score='raise'.\n",
            "\n",
            "Below are more details about the failures:\n",
            "--------------------------------------------------------------------------------\n",
            "75 fits failed with the following error:\n",
            "Traceback (most recent call last):\n",
            "  File \"/usr/local/lib/python3.10/dist-packages/sklearn/model_selection/_validation.py\", line 729, in _fit_and_score\n",
            "    estimator.fit(X_train, y_train, **fit_params)\n",
            "  File \"/usr/local/lib/python3.10/dist-packages/sklearn/base.py\", line 1145, in wrapper\n",
            "    estimator._validate_params()\n",
            "  File \"/usr/local/lib/python3.10/dist-packages/sklearn/base.py\", line 638, in _validate_params\n",
            "    validate_parameter_constraints(\n",
            "  File \"/usr/local/lib/python3.10/dist-packages/sklearn/utils/_param_validation.py\", line 96, in validate_parameter_constraints\n",
            "    raise InvalidParameterError(\n",
            "sklearn.utils._param_validation.InvalidParameterError: The 'max_features' parameter of RandomForestClassifier must be an int in the range [1, inf), a float in the range (0.0, 1.0], a str among {'sqrt', 'log2'} or None. Got 'log' instead.\n",
            "\n",
            "--------------------------------------------------------------------------------\n",
            "75 fits failed with the following error:\n",
            "Traceback (most recent call last):\n",
            "  File \"/usr/local/lib/python3.10/dist-packages/sklearn/model_selection/_validation.py\", line 729, in _fit_and_score\n",
            "    estimator.fit(X_train, y_train, **fit_params)\n",
            "  File \"/usr/local/lib/python3.10/dist-packages/sklearn/base.py\", line 1145, in wrapper\n",
            "    estimator._validate_params()\n",
            "  File \"/usr/local/lib/python3.10/dist-packages/sklearn/base.py\", line 638, in _validate_params\n",
            "    validate_parameter_constraints(\n",
            "  File \"/usr/local/lib/python3.10/dist-packages/sklearn/utils/_param_validation.py\", line 96, in validate_parameter_constraints\n",
            "    raise InvalidParameterError(\n",
            "sklearn.utils._param_validation.InvalidParameterError: The 'max_features' parameter of RandomForestClassifier must be an int in the range [1, inf), a float in the range (0.0, 1.0], a str among {'sqrt', 'log2'} or None. Got 'none' instead.\n",
            "\n",
            "  warnings.warn(some_fits_failed_message, FitFailedWarning)\n",
            "/usr/local/lib/python3.10/dist-packages/sklearn/model_selection/_search.py:979: UserWarning: One or more of the test scores are non-finite: [0.95764361 0.95763028 0.95928295 0.96090897 0.95601759 0.96252166\n",
            " 0.96089564 0.96089564 0.9592563  0.95764361 0.95599094 0.95764361\n",
            " 0.95437825 0.95113954 0.94788751        nan        nan        nan\n",
            "        nan        nan        nan        nan        nan        nan\n",
            "        nan        nan        nan        nan        nan        nan\n",
            "        nan        nan        nan        nan        nan        nan\n",
            "        nan        nan        nan        nan        nan        nan\n",
            "        nan        nan        nan]\n",
            "  warnings.warn(\n"
          ]
        }
      ]
    }
  ]
}