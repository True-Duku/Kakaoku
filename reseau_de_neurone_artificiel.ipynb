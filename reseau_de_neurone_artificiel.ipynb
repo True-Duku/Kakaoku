{
  "nbformat": 4,
  "nbformat_minor": 0,
  "metadata": {
    "colab": {
      "provenance": [],
      "authorship_tag": "ABX9TyO8HhSmpluHKDTG80vedfT5",
      "include_colab_link": true
    },
    "kernelspec": {
      "name": "python3",
      "display_name": "Python 3"
    },
    "language_info": {
      "name": "python"
    }
  },
  "cells": [
    {
      "cell_type": "markdown",
      "metadata": {
        "id": "view-in-github",
        "colab_type": "text"
      },
      "source": [
        "<a href=\"https://colab.research.google.com/github/True-Duku/Kakaoku/blob/main/reseau_de_neurone_artificiel.ipynb\" target=\"_parent\"><img src=\"https://colab.research.google.com/assets/colab-badge.svg\" alt=\"Open In Colab\"/></a>"
      ]
    },
    {
      "cell_type": "code",
      "execution_count": null,
      "metadata": {
        "id": "E09qEg6oNLgU"
      },
      "outputs": [],
      "source": [
        "import numpy as np\n",
        "# les commentaires sur le code sera écrit en dessous"
      ]
    },
    {
      "cell_type": "markdown",
      "source": [
        "Simple algorithme d'un réseau de neurone artificiel faisant une classification binaire. importation de la bibliothèque Numpy"
      ],
      "metadata": {
        "id": "nh7va1LneMyO"
      }
    },
    {
      "cell_type": "code",
      "source": [
        "def sigmoid(x):\n",
        "  return 1/(1 + np.exp(-x))"
      ],
      "metadata": {
        "id": "vdsMcB1UfZtj"
      },
      "execution_count": null,
      "outputs": []
    },
    {
      "cell_type": "markdown",
      "source": [
        "Definition de la fonction sigmoide utilisé pour convertir les entrées du réseau en valeurs comprises entre 0 et 1. Fonction sigmoide ressemblant à la fonction réciproque d'un tangante"
      ],
      "metadata": {
        "id": "hIMawa6GfizS"
      }
    },
    {
      "cell_type": "code",
      "source": [
        "w1 = np.random.rand()\n",
        "w2 = np.random.rand()"
      ],
      "metadata": {
        "id": "X9U5o1KshONo"
      },
      "execution_count": null,
      "outputs": []
    },
    {
      "cell_type": "markdown",
      "source": [
        "Initialisation des poids des réseaux w1 et w2 représentant les forces de connections entre les entrées et le neurone de sortie"
      ],
      "metadata": {
        "id": "tOVZh5BJhQCM"
      }
    },
    {
      "cell_type": "code",
      "source": [
        "def predict(x1 , x2):\n",
        "  z = w1 * x1 + w2 * x2\n",
        "  a = sigmoid(z)\n",
        "  return a"
      ],
      "metadata": {
        "id": "f1SFe4dNjG0s"
      },
      "execution_count": null,
      "outputs": []
    },
    {
      "cell_type": "markdown",
      "source": [
        "Définition dela fonction de prédiction qui calcule la sortie de réseau pour un ensemble d'entrée en utilisant la fonction Sigmoide définie plus haut"
      ],
      "metadata": {
        "id": "U1ms8bVujH9P"
      }
    },
    {
      "cell_type": "code",
      "source": [
        "x_train = np.array([\n",
        "  [0, 0],\n",
        "  [0, 1],\n",
        "  [1, 0],\n",
        "  [1, 1]\n",
        "])\n",
        "\n",
        "y_train = np.array([\n",
        "  0,\n",
        "  1,\n",
        "  1,\n",
        "  0\n",
        "])"
      ],
      "metadata": {
        "id": "VtiO9gQPlmNG"
      },
      "execution_count": null,
      "outputs": []
    },
    {
      "cell_type": "markdown",
      "source": [
        "L'entrainement du réseau consiste à ajuster le poid du réseau afin de minimiser les erreurs entre les prédictions et les valeurs réelles. L'algorithme d'apprentissage du gradient est utilisé pour mettre a jour les poids"
      ],
      "metadata": {
        "id": "y8G6FifWlnP_"
      }
    },
    {
      "cell_type": "code",
      "source": [
        "learning_rate = 0.1\n",
        "\n",
        "for epoch in range(1000):\n",
        "  for i in range(len(x_train)):\n",
        "    x = x_train[i]\n",
        "    y = y_train[i]\n",
        "    a = predict(x[0], x[1])\n",
        "\n",
        "    error = y - a\n",
        "    w1 -= learning_rate * error * x[0] * a * (1 - a)\n",
        "    w2 -= learning_rate * error * x[1] * a * (1 - a)\n",
        "\n",
        "\n",
        "\n",
        "\n",
        "\n"
      ],
      "metadata": {
        "id": "WVR1Fn-0n7KW"
      },
      "execution_count": null,
      "outputs": []
    },
    {
      "cell_type": "markdown",
      "source": [
        "Algorithme du gradiant"
      ],
      "metadata": {
        "id": "gEPsJCMKn8Kr"
      }
    },
    {
      "cell_type": "code",
      "source": [
        "x_test = np.array([\n",
        "  [0.2, 0.3],\n",
        "  [0.5, 0.7],\n",
        "  [0.8, 0.9]\n",
        "])"
      ],
      "metadata": {
        "id": "MFnttXQRqZWx"
      },
      "execution_count": null,
      "outputs": []
    },
    {
      "cell_type": "code",
      "source": [
        "y_pred = predict(x_test[0][0], x_test[0][1])\n",
        "print(\"Prédiction pour (0.2, 0.3):\", y_pred)\n",
        "\n",
        "y_pred = predict(x_test[1][0], x_test[1][1])\n",
        "print(\"Prédiction pour (0.5, 0.7):\", y_pred)\n",
        "\n",
        "y_pred = predict(x_test[2][0], x_test[2][1])\n",
        "print(\"Prédiction pour (0.8, 0.9):\", y_pred)"
      ],
      "metadata": {
        "colab": {
          "base_uri": "https://localhost:8080/"
        },
        "id": "3Gym0EqtrQih",
        "outputId": "4d922c57-8adf-4a96-b7d4-f7d7bd1feb1c"
      },
      "execution_count": null,
      "outputs": [
        {
          "output_type": "stream",
          "name": "stdout",
          "text": [
            "Prédiction pour (0.2, 0.3): 0.5929244572440651\n",
            "Prédiction pour (0.5, 0.7): 0.7461240333206738\n",
            "Prédiction pour (0.8, 0.9): 0.9114545447624118\n"
          ]
        }
      ]
    },
    {
      "cell_type": "markdown",
      "source": [
        "Test du réseau pour évaluer la performance du réseau sur les données de test non utilisé, les prédictions seron utilisé pour chaques tests"
      ],
      "metadata": {
        "id": "q7y3TDnBqZ5n"
      }
    },
    {
      "cell_type": "markdown",
      "source": [],
      "metadata": {
        "id": "iKMp58lTeB7f"
      }
    }
  ]
}