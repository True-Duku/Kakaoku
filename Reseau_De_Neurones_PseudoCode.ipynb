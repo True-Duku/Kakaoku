{
  "nbformat": 4,
  "nbformat_minor": 0,
  "metadata": {
    "colab": {
      "provenance": [],
      "authorship_tag": "ABX9TyMA3lvAxsIUu+qrADU4E1vo",
      "include_colab_link": true
    },
    "kernelspec": {
      "name": "python3",
      "display_name": "Python 3"
    },
    "language_info": {
      "name": "python"
    }
  },
  "cells": [
    {
      "cell_type": "markdown",
      "metadata": {
        "id": "view-in-github",
        "colab_type": "text"
      },
      "source": [
        "<a href=\"https://colab.research.google.com/github/True-Duku/Kakaoku/blob/main/Reseau_De_Neurones_PseudoCode.ipynb\" target=\"_parent\"><img src=\"https://colab.research.google.com/assets/colab-badge.svg\" alt=\"Open In Colab\"/></a>"
      ]
    },
    {
      "cell_type": "code",
      "execution_count": null,
      "metadata": {
        "id": "k8QIVAIgZ_mf"
      },
      "outputs": [],
      "source": [
        "```Pseudo code\n",
        "Class Neural_Network {\n",
        "    private List< neuron > inputLayer;\n",
        "    private List< neuron > hiddenLayer;\n",
        "    private List< neuron > outputLayer;\n",
        "\n",
        "    public Neural_Network(int nb_input, int nb_hidden, int nb_output) {\n",
        "        initialiseInput(nb_input);\n",
        "        initialiseHidden(hiddenLayer.size(), nb_hidden);\n",
        "        initialiseOutput(output layers size() , nb_output);\n",
        "    }\n",
        "\n",
        "    private void initialiserEntrée(int nb_ input) {\n",
        "        inputLayer = new ArrayList();\n",
        "        pour chiffre de 0 au nb_input-1 {\n",
        "            neuron neuronsInput = new neuron (nb_input-1);\n",
        "            inputLayer.ajouter( neuron );\n",
        "        }\n",
        "    }\n",
        "\n",
        "    private void initialiserCache (int nb_ hidden, int nb_ input) {\n",
        "        hidden layer=new ArrayList();\n",
        "        pour chiffre de 0 au nb_hidden-1 {\n",
        "            neurons hidden = new neuron (nb_input);\n",
        "            hidden layers.ajouter( neuron );\n",
        "        }\n",
        "    }\n",
        "\n",
        "    private void initialiser sortie(int nb_output) {\n",
        "        output layer=new ArrayList();\n",
        "        pour chiffre de 0 au nb_output-1 {\n",
        "            neuronsOutput = new neuron (nb_ hidden);\n",
        "            output layers.ajouter( neuron );\n",
        "        }\n",
        "    }\n",
        "\n",
        "    public void entrée(double[] inputs) {\n",
        "        pour chiffre de 0 au nb_ input-1 {\n",
        "            input Layers.get(chiffre).inputs (inputs[chiffre]);\n",
        "        }\n",
        "    }\n",
        "\n",
        "    public double sortie() {\n",
        "        Double total = 0.0;\n",
        "        pour chiffre de 0 au output layers size() -1 {\n",
        "            neuron neurons Output = hidden layer.get(chiffre);\n",
        "            Total += neuronsOutput.output();\n",
        "        }\n",
        "        return total;\n",
        "    }\n",
        "}\n",
        "```\n",
        "\"\"\"Dans cet exemple, Neural_Network est une classe qui contient des Listes d'objets\n",
        "Neuron pour la Input layer, hidden layer, et output layer du réseau de neurones artificiel.\n",
        "Les méthodes initialiserEntrée, initialiserCache, et initialiserSortie sont utilisées pour\n",
        "initialiser les différentes layers avec le nombre souhaité de Neuron. La méthode entrée est\n",
        "utilisée pour mettre les données d'entrée dans la Input layer, tandis que la methode sortie est\n",
        "utilise pour calculer la sortie du réseau de neurones artificiel.\"\"\""
      ]
    }
  ]
}